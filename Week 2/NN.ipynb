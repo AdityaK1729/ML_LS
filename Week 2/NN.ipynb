{
 "cells": [
  {
   "cell_type": "code",
   "execution_count": 1,
   "metadata": {},
   "outputs": [
    {
     "name": "stderr",
     "output_type": "stream",
     "text": [
      "2024-07-13 21:07:58.596725: I tensorflow/core/util/port.cc:113] oneDNN custom operations are on. You may see slightly different numerical results due to floating-point round-off errors from different computation orders. To turn them off, set the environment variable `TF_ENABLE_ONEDNN_OPTS=0`.\n",
      "2024-07-13 21:07:58.597341: I external/local_tsl/tsl/cuda/cudart_stub.cc:32] Could not find cuda drivers on your machine, GPU will not be used.\n",
      "2024-07-13 21:07:58.601145: I external/local_tsl/tsl/cuda/cudart_stub.cc:32] Could not find cuda drivers on your machine, GPU will not be used.\n",
      "2024-07-13 21:07:58.612937: E external/local_xla/xla/stream_executor/cuda/cuda_fft.cc:479] Unable to register cuFFT factory: Attempting to register factory for plugin cuFFT when one has already been registered\n",
      "2024-07-13 21:07:58.636787: E external/local_xla/xla/stream_executor/cuda/cuda_dnn.cc:10575] Unable to register cuDNN factory: Attempting to register factory for plugin cuDNN when one has already been registered\n",
      "2024-07-13 21:07:58.636833: E external/local_xla/xla/stream_executor/cuda/cuda_blas.cc:1442] Unable to register cuBLAS factory: Attempting to register factory for plugin cuBLAS when one has already been registered\n",
      "2024-07-13 21:07:58.651495: I tensorflow/core/platform/cpu_feature_guard.cc:210] This TensorFlow binary is optimized to use available CPU instructions in performance-critical operations.\n",
      "To enable the following instructions: AVX2 AVX_VNNI FMA, in other operations, rebuild TensorFlow with the appropriate compiler flags.\n",
      "2024-07-13 21:07:59.441125: W tensorflow/compiler/tf2tensorrt/utils/py_utils.cc:38] TF-TRT Warning: Could not find TensorRT\n"
     ]
    }
   ],
   "source": [
    "import tensorflow as tf\n",
    "from tensorflow import keras\n",
    "from tensorflow.keras import layers\n",
    "from tensorflow.keras import regularizers\n",
    "import numpy as np\n",
    "import matplotlib.pyplot as plt"
   ]
  },
  {
   "cell_type": "code",
   "execution_count": 2,
   "metadata": {},
   "outputs": [
    {
     "name": "stdout",
     "output_type": "stream",
     "text": [
      "Found 269 files belonging to 2 classes.\n"
     ]
    },
    {
     "name": "stderr",
     "output_type": "stream",
     "text": [
      "2024-07-13 21:08:01.696783: I external/local_xla/xla/stream_executor/cuda/cuda_executor.cc:984] could not open file to read NUMA node: /sys/bus/pci/devices/0000:01:00.0/numa_node\n",
      "Your kernel may have been built without NUMA support.\n",
      "2024-07-13 21:08:01.697107: W tensorflow/core/common_runtime/gpu/gpu_device.cc:2251] Cannot dlopen some GPU libraries. Please make sure the missing libraries mentioned above are installed properly if you would like to use GPU. Follow the guide at https://www.tensorflow.org/install/gpu for how to download and setup the required libraries for your platform.\n",
      "Skipping registering GPU devices...\n"
     ]
    }
   ],
   "source": [
    "training = tf.keras.preprocessing.image_dataset_from_directory(\n",
    "    r'./ML_ls/Week2/homer_bart',\n",
    "    labels='inferred',\n",
    "    label_mode='int',\n",
    "    class_names=['Bart','Homer'],\n",
    "    color_mode='rgb',\n",
    "    image_size=(100,100),\n",
    "    shuffle=True,\n",
    "    seed=100,\n",
    ")\n",
    "#Splitting dataset in a 9:1 ratio\n",
    "datasize = tf.data.experimental.cardinality(training).numpy()\n",
    "trainsize = int(0.9 * datasize)\n",
    "testsize = datasize - trainsize\n",
    "\n",
    "traindata = training.take(trainsize)\n",
    "testdata = training.skip(trainsize)\n"
   ]
  },
  {
   "cell_type": "code",
   "execution_count": 3,
   "metadata": {},
   "outputs": [
    {
     "data": {
      "text/html": [
       "<pre style=\"white-space:pre;overflow-x:auto;line-height:normal;font-family:Menlo,'DejaVu Sans Mono',consolas,'Courier New',monospace\"><span style=\"font-weight: bold\">Model: \"sequential\"</span>\n",
       "</pre>\n"
      ],
      "text/plain": [
       "\u001b[1mModel: \"sequential\"\u001b[0m\n"
      ]
     },
     "metadata": {},
     "output_type": "display_data"
    },
    {
     "data": {
      "text/html": [
       "<pre style=\"white-space:pre;overflow-x:auto;line-height:normal;font-family:Menlo,'DejaVu Sans Mono',consolas,'Courier New',monospace\">┏━━━━━━━━━━━━━━━━━━━━━━━━━━━━━━━━━┳━━━━━━━━━━━━━━━━━━━━━━━━┳━━━━━━━━━━━━━━━┓\n",
       "┃<span style=\"font-weight: bold\"> Layer (type)                    </span>┃<span style=\"font-weight: bold\"> Output Shape           </span>┃<span style=\"font-weight: bold\">       Param # </span>┃\n",
       "┡━━━━━━━━━━━━━━━━━━━━━━━━━━━━━━━━━╇━━━━━━━━━━━━━━━━━━━━━━━━╇━━━━━━━━━━━━━━━┩\n",
       "│ flatten (<span style=\"color: #0087ff; text-decoration-color: #0087ff\">Flatten</span>)               │ (<span style=\"color: #00d7ff; text-decoration-color: #00d7ff\">None</span>, <span style=\"color: #00af00; text-decoration-color: #00af00\">30000</span>)          │             <span style=\"color: #00af00; text-decoration-color: #00af00\">0</span> │\n",
       "├─────────────────────────────────┼────────────────────────┼───────────────┤\n",
       "│ dense (<span style=\"color: #0087ff; text-decoration-color: #0087ff\">Dense</span>)                   │ (<span style=\"color: #00d7ff; text-decoration-color: #00d7ff\">None</span>, <span style=\"color: #00af00; text-decoration-color: #00af00\">128</span>)            │     <span style=\"color: #00af00; text-decoration-color: #00af00\">3,840,128</span> │\n",
       "├─────────────────────────────────┼────────────────────────┼───────────────┤\n",
       "│ dense_1 (<span style=\"color: #0087ff; text-decoration-color: #0087ff\">Dense</span>)                 │ (<span style=\"color: #00d7ff; text-decoration-color: #00d7ff\">None</span>, <span style=\"color: #00af00; text-decoration-color: #00af00\">64</span>)             │         <span style=\"color: #00af00; text-decoration-color: #00af00\">8,256</span> │\n",
       "├─────────────────────────────────┼────────────────────────┼───────────────┤\n",
       "│ dense_2 (<span style=\"color: #0087ff; text-decoration-color: #0087ff\">Dense</span>)                 │ (<span style=\"color: #00d7ff; text-decoration-color: #00d7ff\">None</span>, <span style=\"color: #00af00; text-decoration-color: #00af00\">64</span>)             │         <span style=\"color: #00af00; text-decoration-color: #00af00\">4,160</span> │\n",
       "├─────────────────────────────────┼────────────────────────┼───────────────┤\n",
       "│ dense_3 (<span style=\"color: #0087ff; text-decoration-color: #0087ff\">Dense</span>)                 │ (<span style=\"color: #00d7ff; text-decoration-color: #00d7ff\">None</span>, <span style=\"color: #00af00; text-decoration-color: #00af00\">2</span>)              │           <span style=\"color: #00af00; text-decoration-color: #00af00\">130</span> │\n",
       "└─────────────────────────────────┴────────────────────────┴───────────────┘\n",
       "</pre>\n"
      ],
      "text/plain": [
       "┏━━━━━━━━━━━━━━━━━━━━━━━━━━━━━━━━━┳━━━━━━━━━━━━━━━━━━━━━━━━┳━━━━━━━━━━━━━━━┓\n",
       "┃\u001b[1m \u001b[0m\u001b[1mLayer (type)                   \u001b[0m\u001b[1m \u001b[0m┃\u001b[1m \u001b[0m\u001b[1mOutput Shape          \u001b[0m\u001b[1m \u001b[0m┃\u001b[1m \u001b[0m\u001b[1m      Param #\u001b[0m\u001b[1m \u001b[0m┃\n",
       "┡━━━━━━━━━━━━━━━━━━━━━━━━━━━━━━━━━╇━━━━━━━━━━━━━━━━━━━━━━━━╇━━━━━━━━━━━━━━━┩\n",
       "│ flatten (\u001b[38;5;33mFlatten\u001b[0m)               │ (\u001b[38;5;45mNone\u001b[0m, \u001b[38;5;34m30000\u001b[0m)          │             \u001b[38;5;34m0\u001b[0m │\n",
       "├─────────────────────────────────┼────────────────────────┼───────────────┤\n",
       "│ dense (\u001b[38;5;33mDense\u001b[0m)                   │ (\u001b[38;5;45mNone\u001b[0m, \u001b[38;5;34m128\u001b[0m)            │     \u001b[38;5;34m3,840,128\u001b[0m │\n",
       "├─────────────────────────────────┼────────────────────────┼───────────────┤\n",
       "│ dense_1 (\u001b[38;5;33mDense\u001b[0m)                 │ (\u001b[38;5;45mNone\u001b[0m, \u001b[38;5;34m64\u001b[0m)             │         \u001b[38;5;34m8,256\u001b[0m │\n",
       "├─────────────────────────────────┼────────────────────────┼───────────────┤\n",
       "│ dense_2 (\u001b[38;5;33mDense\u001b[0m)                 │ (\u001b[38;5;45mNone\u001b[0m, \u001b[38;5;34m64\u001b[0m)             │         \u001b[38;5;34m4,160\u001b[0m │\n",
       "├─────────────────────────────────┼────────────────────────┼───────────────┤\n",
       "│ dense_3 (\u001b[38;5;33mDense\u001b[0m)                 │ (\u001b[38;5;45mNone\u001b[0m, \u001b[38;5;34m2\u001b[0m)              │           \u001b[38;5;34m130\u001b[0m │\n",
       "└─────────────────────────────────┴────────────────────────┴───────────────┘\n"
      ]
     },
     "metadata": {},
     "output_type": "display_data"
    },
    {
     "data": {
      "text/html": [
       "<pre style=\"white-space:pre;overflow-x:auto;line-height:normal;font-family:Menlo,'DejaVu Sans Mono',consolas,'Courier New',monospace\"><span style=\"font-weight: bold\"> Total params: </span><span style=\"color: #00af00; text-decoration-color: #00af00\">3,852,674</span> (14.70 MB)\n",
       "</pre>\n"
      ],
      "text/plain": [
       "\u001b[1m Total params: \u001b[0m\u001b[38;5;34m3,852,674\u001b[0m (14.70 MB)\n"
      ]
     },
     "metadata": {},
     "output_type": "display_data"
    },
    {
     "data": {
      "text/html": [
       "<pre style=\"white-space:pre;overflow-x:auto;line-height:normal;font-family:Menlo,'DejaVu Sans Mono',consolas,'Courier New',monospace\"><span style=\"font-weight: bold\"> Trainable params: </span><span style=\"color: #00af00; text-decoration-color: #00af00\">3,852,674</span> (14.70 MB)\n",
       "</pre>\n"
      ],
      "text/plain": [
       "\u001b[1m Trainable params: \u001b[0m\u001b[38;5;34m3,852,674\u001b[0m (14.70 MB)\n"
      ]
     },
     "metadata": {},
     "output_type": "display_data"
    },
    {
     "data": {
      "text/html": [
       "<pre style=\"white-space:pre;overflow-x:auto;line-height:normal;font-family:Menlo,'DejaVu Sans Mono',consolas,'Courier New',monospace\"><span style=\"font-weight: bold\"> Non-trainable params: </span><span style=\"color: #00af00; text-decoration-color: #00af00\">0</span> (0.00 B)\n",
       "</pre>\n"
      ],
      "text/plain": [
       "\u001b[1m Non-trainable params: \u001b[0m\u001b[38;5;34m0\u001b[0m (0.00 B)\n"
      ]
     },
     "metadata": {},
     "output_type": "display_data"
    }
   ],
   "source": [
    "model = keras.Sequential([\n",
    "    keras.Input(shape=(100, 100, 3)),\n",
    "    layers.Flatten(),\n",
    "    layers.Dense(128, activation='relu', kernel_regularizer=regularizers.l2(0.01)),\n",
    "    layers.Dense(64, activation='relu', kernel_regularizer=regularizers.l2(0.01)),\n",
    "    layers.Dense(64, activation='relu', kernel_regularizer=regularizers.l2(0.01)),\n",
    "    layers.Dense(2, activation='softmax')\n",
    "])\n",
    "\n",
    "model.summary()"
   ]
  },
  {
   "cell_type": "code",
   "execution_count": 4,
   "metadata": {},
   "outputs": [],
   "source": [
    "\n",
    "model.compile(\n",
    "    loss = keras.losses.SparseCategoricalCrossentropy(from_logits=False),\n",
    "    optimizer = keras.optimizers.Adam(learning_rate=0.0001),\n",
    "    metrics = ['accuracy']\n",
    ")"
   ]
  },
  {
   "cell_type": "code",
   "execution_count": 5,
   "metadata": {},
   "outputs": [
    {
     "name": "stdout",
     "output_type": "stream",
     "text": [
      "Epoch 1/25\n",
      "8/8 - 1s - 157ms/step - accuracy: 0.5195 - loss: 89.0851 - val_accuracy: 0.7692 - val_loss: 16.8451\n",
      "Epoch 2/25\n",
      "8/8 - 0s - 30ms/step - accuracy: 0.5469 - loss: 19.6568 - val_accuracy: 0.6154 - val_loss: 10.2539\n",
      "Epoch 3/25\n",
      "8/8 - 0s - 39ms/step - accuracy: 0.6875 - loss: 8.3564 - val_accuracy: 0.6923 - val_loss: 6.9077\n",
      "Epoch 4/25\n",
      "8/8 - 0s - 32ms/step - accuracy: 0.6953 - loss: 8.5537 - val_accuracy: 0.6154 - val_loss: 6.9912\n",
      "Epoch 5/25\n",
      "8/8 - 0s - 35ms/step - accuracy: 0.7461 - loss: 6.9760 - val_accuracy: 0.4615 - val_loss: 6.8717\n",
      "Epoch 6/25\n",
      "8/8 - 0s - 35ms/step - accuracy: 0.7500 - loss: 7.3328 - val_accuracy: 0.8462 - val_loss: 5.6180\n",
      "Epoch 7/25\n",
      "8/8 - 0s - 36ms/step - accuracy: 0.8398 - loss: 5.2224 - val_accuracy: 0.8462 - val_loss: 5.1066\n",
      "Epoch 8/25\n",
      "8/8 - 0s - 34ms/step - accuracy: 0.7617 - loss: 7.6253 - val_accuracy: 0.6923 - val_loss: 6.4302\n",
      "Epoch 9/25\n",
      "8/8 - 0s - 32ms/step - accuracy: 0.7461 - loss: 6.8228 - val_accuracy: 1.0000 - val_loss: 3.7861\n",
      "Epoch 10/25\n",
      "8/8 - 0s - 32ms/step - accuracy: 0.7891 - loss: 7.4348 - val_accuracy: 0.8462 - val_loss: 5.2506\n",
      "Epoch 11/25\n",
      "8/8 - 0s - 28ms/step - accuracy: 0.7500 - loss: 6.9100 - val_accuracy: 0.6923 - val_loss: 8.7860\n",
      "Epoch 12/25\n",
      "8/8 - 0s - 28ms/step - accuracy: 0.8789 - loss: 4.9131 - val_accuracy: 0.9231 - val_loss: 3.8323\n",
      "Epoch 13/25\n",
      "8/8 - 0s - 29ms/step - accuracy: 0.8867 - loss: 4.6041 - val_accuracy: 0.8462 - val_loss: 5.1992\n",
      "Epoch 14/25\n",
      "8/8 - 0s - 29ms/step - accuracy: 0.8633 - loss: 4.6173 - val_accuracy: 1.0000 - val_loss: 3.6861\n",
      "Epoch 15/25\n",
      "8/8 - 0s - 33ms/step - accuracy: 0.9141 - loss: 4.3918 - val_accuracy: 1.0000 - val_loss: 3.6570\n",
      "Epoch 16/25\n",
      "8/8 - 0s - 29ms/step - accuracy: 0.9141 - loss: 4.1018 - val_accuracy: 1.0000 - val_loss: 3.6516\n",
      "Epoch 17/25\n",
      "8/8 - 0s - 32ms/step - accuracy: 0.9297 - loss: 4.1064 - val_accuracy: 0.9231 - val_loss: 4.7437\n",
      "Epoch 18/25\n",
      "8/8 - 0s - 30ms/step - accuracy: 0.8945 - loss: 4.3411 - val_accuracy: 1.0000 - val_loss: 3.6314\n",
      "Epoch 19/25\n",
      "8/8 - 0s - 31ms/step - accuracy: 0.9453 - loss: 3.9748 - val_accuracy: 1.0000 - val_loss: 3.6243\n",
      "Epoch 20/25\n",
      "8/8 - 0s - 30ms/step - accuracy: 0.8867 - loss: 4.5535 - val_accuracy: 1.0000 - val_loss: 3.6191\n",
      "Epoch 21/25\n",
      "8/8 - 0s - 29ms/step - accuracy: 0.7773 - loss: 6.2909 - val_accuracy: 0.6154 - val_loss: 16.2159\n",
      "Epoch 22/25\n",
      "8/8 - 0s - 28ms/step - accuracy: 0.7188 - loss: 9.9041 - val_accuracy: 0.3846 - val_loss: 21.7651\n",
      "Epoch 23/25\n",
      "8/8 - 0s - 28ms/step - accuracy: 0.6562 - loss: 13.2604 - val_accuracy: 0.6154 - val_loss: 8.3928\n",
      "Epoch 24/25\n",
      "8/8 - 0s - 28ms/step - accuracy: 0.7539 - loss: 8.8086 - val_accuracy: 0.6923 - val_loss: 6.9551\n",
      "Epoch 25/25\n",
      "8/8 - 0s - 28ms/step - accuracy: 0.8984 - loss: 4.8067 - val_accuracy: 1.0000 - val_loss: 3.5838\n",
      "1/1 - 0s - 38ms/step - accuracy: 1.0000 - loss: 3.5837\n",
      "The accuracy of this model is 1.0\n",
      "in %age: 100.0%\n"
     ]
    }
   ],
   "source": [
    "model.fit(traindata,epochs=25,validation_data=testdata, verbose=2 )\n",
    "loss, acc = model.evaluate(testdata,verbose=2)\n",
    "print(f\"The accuracy of this model is {acc}\" )\n",
    "print(f'in %age: {acc*100}%')"
   ]
  },
  {
   "cell_type": "code",
   "execution_count": null,
   "metadata": {},
   "outputs": [],
   "source": []
  }
 ],
 "metadata": {
  "kernelspec": {
   "display_name": "Python 3",
   "language": "python",
   "name": "python3"
  },
  "language_info": {
   "codemirror_mode": {
    "name": "ipython",
    "version": 3
   },
   "file_extension": ".py",
   "mimetype": "text/x-python",
   "name": "python",
   "nbconvert_exporter": "python",
   "pygments_lexer": "ipython3",
   "version": "3.10.12"
  }
 },
 "nbformat": 4,
 "nbformat_minor": 2
}
